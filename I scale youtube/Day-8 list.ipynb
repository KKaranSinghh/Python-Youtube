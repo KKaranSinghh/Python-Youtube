{
 "cells": [
  {
   "cell_type": "markdown",
   "metadata": {},
   "source": [
    "## [ List ]\n",
    "- List are used to store multiple items in a single variable.\n",
    "- List are mutable, and hence, they can be altered even after their creation.\n",
    "- List items are ordered, changeable, and allow duplicate values."
   ]
  },
  {
   "cell_type": "code",
   "execution_count": 1,
   "metadata": {},
   "outputs": [
    {
     "name": "stdout",
     "output_type": "stream",
     "text": [
      "['apple', 'banana', 'cherry']\n",
      "<class 'list'>\n"
     ]
    }
   ],
   "source": [
    "# Creating a list\n",
    "\n",
    "mylist = ['apple','banana','cherry']\n",
    "print(mylist)\n",
    "print(type(mylist))"
   ]
  },
  {
   "cell_type": "code",
   "execution_count": 2,
   "metadata": {},
   "outputs": [
    {
     "name": "stdout",
     "output_type": "stream",
     "text": [
      "['apple', 'banana', 'apple', 'cherry', 'banana', 'apple']\n"
     ]
    }
   ],
   "source": [
    "# Allow Duplicates\n",
    "\n",
    "mylist = ['apple','banana','apple','cherry','banana','apple']\n",
    "print(mylist)"
   ]
  },
  {
   "cell_type": "markdown",
   "metadata": {},
   "source": [
    "## Data types"
   ]
  },
  {
   "cell_type": "code",
   "execution_count": 4,
   "metadata": {},
   "outputs": [
    {
     "name": "stdout",
     "output_type": "stream",
     "text": [
      "['apple', 'banana', 'cherry']\n",
      "[2, 3, 4]\n",
      "[7.8, 8.9, 2.5]\n",
      "[True, False, True]\n"
     ]
    }
   ],
   "source": [
    "# String data type\n",
    "list1 = ['apple','banana','cherry']\n",
    "\n",
    "#Integer data type\n",
    "list2= [2,3,4]\n",
    "\n",
    "# Floating data type\n",
    "list3= [7.8, 8.9, 2.5]\n",
    "\n",
    "# Bolian data type\n",
    "list4= [True,False,True]\n",
    "\n",
    "print(list1)\n",
    "print(list2)\n",
    "print(list3)\n",
    "print(list4)\n"
   ]
  },
  {
   "cell_type": "code",
   "execution_count": 6,
   "metadata": {},
   "outputs": [
    {
     "name": "stdout",
     "output_type": "stream",
     "text": [
      "[12, -8, 5, -7, 2.3, 2, 3, 3.6, 'student', 'hello', True, False]\n"
     ]
    }
   ],
   "source": [
    "# mix data type\n",
    "a = [12,-8,5,-7,2.3,2,3,3.6,'student','hello',True,False]\n",
    "print(a)"
   ]
  },
  {
   "cell_type": "markdown",
   "metadata": {},
   "source": [
    "## List length"
   ]
  },
  {
   "cell_type": "code",
   "execution_count": 7,
   "metadata": {},
   "outputs": [
    {
     "name": "stdout",
     "output_type": "stream",
     "text": [
      "12\n"
     ]
    }
   ],
   "source": [
    "a = [12,-8,5,-7,2.3,2,3,3.6,'student','hello',True,False]\n",
    "print(len(a))"
   ]
  },
  {
   "cell_type": "code",
   "execution_count": 8,
   "metadata": {},
   "outputs": [
    {
     "name": "stdout",
     "output_type": "stream",
     "text": [
      "9\n"
     ]
    }
   ],
   "source": [
    "b = [15,8,9,4,6,7,8,9,25]\n",
    "print(len(b))"
   ]
  },
  {
   "cell_type": "markdown",
   "metadata": {},
   "source": [
    "## Access items"
   ]
  },
  {
   "cell_type": "code",
   "execution_count": 13,
   "metadata": {},
   "outputs": [
    {
     "name": "stdout",
     "output_type": "stream",
     "text": [
      "15\n",
      "5\n",
      "52\n",
      "96\n"
     ]
    }
   ],
   "source": [
    "thislist= [12,15,26,78,14,25,96,142,52,22,6,5]\n",
    "print(thislist[1])\n",
    "print(thislist[-1])\n",
    "print(thislist[8])\n",
    "print(thislist[-6])"
   ]
  },
  {
   "cell_type": "markdown",
   "metadata": {},
   "source": [
    "## Slicing of list"
   ]
  },
  {
   "cell_type": "code",
   "execution_count": 14,
   "metadata": {},
   "outputs": [
    {
     "name": "stdout",
     "output_type": "stream",
     "text": [
      "[12, 15, 26, 78, 14, 25]\n"
     ]
    }
   ],
   "source": [
    "thislist= [12,15,26,78,14,25,96,142,52,22,6,5]\n",
    "print(thislist[0:6])"
   ]
  },
  {
   "cell_type": "code",
   "execution_count": 15,
   "metadata": {},
   "outputs": [
    {
     "name": "stdout",
     "output_type": "stream",
     "text": [
      "[78, 14, 25, 96, 142, 52]\n"
     ]
    }
   ],
   "source": [
    "thislist= [12,15,26,78,14,25,96,142,52,22,6,5]\n",
    "print(thislist[3:9])"
   ]
  },
  {
   "cell_type": "code",
   "execution_count": 16,
   "metadata": {},
   "outputs": [
    {
     "name": "stdout",
     "output_type": "stream",
     "text": [
      "[12, 26, 14, 96, 52, 6]\n"
     ]
    }
   ],
   "source": [
    "thislist= [12,15,26,78,14,25,96,142,52,22,6,5]\n",
    "print(thislist[0:11:2])"
   ]
  },
  {
   "cell_type": "markdown",
   "metadata": {},
   "source": [
    "## change items in list"
   ]
  },
  {
   "cell_type": "code",
   "execution_count": 17,
   "metadata": {},
   "outputs": [
    {
     "name": "stdout",
     "output_type": "stream",
     "text": [
      "['apple', 'strawberry', 'cherry']\n"
     ]
    }
   ],
   "source": [
    "x = ['apple','banana','cherry']\n",
    "x[1]= 'strawberry'\n",
    "print(x)"
   ]
  },
  {
   "cell_type": "code",
   "execution_count": 19,
   "metadata": {},
   "outputs": [
    {
     "name": "stdout",
     "output_type": "stream",
     "text": [
      "[12, 14, 'student', 8, -9, 5, -3, 41, -9]\n"
     ]
    }
   ],
   "source": [
    "a = [12,14,15,8,-9,5,-3,41,-9]\n",
    "a[2]= 'student'\n",
    "print(a)"
   ]
  },
  {
   "cell_type": "code",
   "execution_count": 21,
   "metadata": {},
   "outputs": [
    {
     "name": "stdout",
     "output_type": "stream",
     "text": [
      "[12, 14, 'book', 'pen', 'paper', -9, 5, -3, 41, -9]\n"
     ]
    }
   ],
   "source": [
    "# change a range of items values\n",
    "\n",
    "a = [12,14,15,8,-9,5,-3,41,-9]\n",
    "a[2:4]= ['book','pen','paper']\n",
    "print(a)\n"
   ]
  },
  {
   "cell_type": "code",
   "execution_count": null,
   "metadata": {},
   "outputs": [],
   "source": []
  }
 ],
 "metadata": {
  "kernelspec": {
   "display_name": "base",
   "language": "python",
   "name": "python3"
  },
  "language_info": {
   "codemirror_mode": {
    "name": "ipython",
    "version": 3
   },
   "file_extension": ".py",
   "mimetype": "text/x-python",
   "name": "python",
   "nbconvert_exporter": "python",
   "pygments_lexer": "ipython3",
   "version": "3.12.3"
  }
 },
 "nbformat": 4,
 "nbformat_minor": 2
}
