{
 "cells": [
  {
   "cell_type": "markdown",
   "metadata": {},
   "source": [
    "# Day 5\n",
    "## concepts of loops\n",
    "## while loop"
   ]
  },
  {
   "cell_type": "code",
   "execution_count": 8,
   "metadata": {},
   "outputs": [
    {
     "name": "stdout",
     "output_type": "stream",
     "text": [
      "1\n",
      "2\n",
      "3\n",
      "4\n"
     ]
    }
   ],
   "source": [
    "# program to display numbers from 1 to 5\n",
    "\n",
    "i = 1\n",
    "n = 5\n",
    "while i < n:\n",
    "    print(i)\n",
    "    i = i + 1"
   ]
  },
  {
   "cell_type": "code",
   "execution_count": 9,
   "metadata": {},
   "outputs": [
    {
     "name": "stdout",
     "output_type": "stream",
     "text": [
      "5\n",
      "10\n",
      "15\n",
      "20\n",
      "25\n",
      "30\n",
      "35\n",
      "40\n",
      "45\n",
      "50\n",
      "this is the multiplication table\n"
     ]
    }
   ],
   "source": [
    "# enter the value from a user and make a multiplication table till 10\n",
    "\n",
    "x = int(input('enter the value'))\n",
    "i = 1\n",
    "while i <= 10:\n",
    "    print(x*i)\n",
    "    i = i + 1\n",
    "print('this is the multiplication table')"
   ]
  },
  {
   "cell_type": "code",
   "execution_count": 10,
   "metadata": {},
   "outputs": [
    {
     "name": "stdout",
     "output_type": "stream",
     "text": [
      "hello student\n",
      "hello student\n",
      "hello student\n",
      "hello student\n",
      "hello student\n",
      "hello student\n",
      "hello student\n",
      "hello student\n",
      "hello student\n",
      "hello student\n",
      "hello student\n",
      "hello student\n",
      "hello student\n",
      "hello student\n",
      "hello student\n",
      "hello student\n",
      "hello student\n",
      "hello student\n",
      "hello student\n",
      "hello student\n",
      "hello student\n",
      "hello student\n",
      "hello student\n",
      "hello student\n",
      "hello student\n",
      "hello student\n"
     ]
    }
   ],
   "source": [
    "count = 0\n",
    "while(count <= 25):\n",
    "    count = count + 1\n",
    "    print('hello student')"
   ]
  },
  {
   "cell_type": "markdown",
   "metadata": {},
   "source": [
    "# Day- 6\n",
    "## user defined function\n",
    "### creating a user define function"
   ]
  },
  {
   "cell_type": "code",
   "execution_count": 11,
   "metadata": {},
   "outputs": [],
   "source": [
    "def my_function():\n",
    "    print('hello class')\n",
    "    print('we are learning python')"
   ]
  },
  {
   "cell_type": "code",
   "execution_count": 12,
   "metadata": {},
   "outputs": [
    {
     "name": "stdout",
     "output_type": "stream",
     "text": [
      "hello class\n",
      "we are learning python\n"
     ]
    }
   ],
   "source": [
    "my_function()"
   ]
  },
  {
   "cell_type": "markdown",
   "metadata": {},
   "source": [
    "### making the result of a student"
   ]
  },
  {
   "cell_type": "code",
   "execution_count": 13,
   "metadata": {},
   "outputs": [],
   "source": [
    "def contact():\n",
    "    print('contact details of the school')\n",
    "    print('delhi public school')\n",
    "    print('bangalore karnataka')\n",
    "    print('789456123')\n",
    "    print('dps.contact@gmail.com')"
   ]
  },
  {
   "cell_type": "code",
   "execution_count": 15,
   "metadata": {},
   "outputs": [
    {
     "name": "stdout",
     "output_type": "stream",
     "text": [
      "karan singh 78 95 86\n",
      "contact details of the school\n",
      "delhi public school\n",
      "bangalore karnataka\n",
      "789456123\n",
      "dps.contact@gmail.com\n",
      "karan 78 95 86\n",
      "contact details of the school\n",
      "delhi public school\n",
      "bangalore karnataka\n",
      "789456123\n",
      "dps.contact@gmail.com\n"
     ]
    }
   ],
   "source": [
    "for i in range(2):\n",
    "    a = input('name of the student')\n",
    "    b = int(input('enter the marks of maths'))\n",
    "    c = int(input('enter the marks of science'))\n",
    "    d = int(input('enter the marks of social'))\n",
    "    print(a,b,c,d)\n",
    "    contact()"
   ]
  },
  {
   "cell_type": "markdown",
   "metadata": {},
   "source": [
    "## Argument"
   ]
  },
  {
   "cell_type": "code",
   "execution_count": 2,
   "metadata": {},
   "outputs": [],
   "source": [
    "def my_function(fname):              # to print first name as argument and last name permanent\n",
    "    print(fname + \" \" + \"sharma\")"
   ]
  },
  {
   "cell_type": "code",
   "execution_count": 4,
   "metadata": {},
   "outputs": [
    {
     "name": "stdout",
     "output_type": "stream",
     "text": [
      "pooja sharma\n",
      "karan sharma\n"
     ]
    }
   ],
   "source": [
    "my_function('pooja')\n",
    "my_function('karan')"
   ]
  },
  {
   "cell_type": "code",
   "execution_count": 5,
   "metadata": {},
   "outputs": [],
   "source": [
    "def my_function(fname, lname):       # to print full name as argument\n",
    "    print(fname + \" \" + lname)"
   ]
  },
  {
   "cell_type": "code",
   "execution_count": 7,
   "metadata": {},
   "outputs": [
    {
     "name": "stdout",
     "output_type": "stream",
     "text": [
      "karan singh\n"
     ]
    }
   ],
   "source": [
    "my_function('karan', 'singh')"
   ]
  },
  {
   "cell_type": "markdown",
   "metadata": {},
   "source": [
    "### To write a program to calculate the electricity bill\n",
    "\n",
    "##### if 500 unit used - pay Rs 5 for each unit\n",
    "##### if 700 unit used - pay Rs 10 for each unit\n",
    "##### if 1000 unit used - pay Rs 15 for each unit\n",
    "##### if more than 1000 unit used - pay Rs 20 for each unit"
   ]
  },
  {
   "cell_type": "code",
   "execution_count": 15,
   "metadata": {},
   "outputs": [],
   "source": [
    "def electricity_bill(n):                    # program to calculate the bill\n",
    "    if n<=500:\n",
    "        print('your bill is Rs :', n*5)\n",
    "    elif n>500 and n<=700:\n",
    "        print('your bill is Rs :', n*10)\n",
    "    elif n>700 and n<=1000:\n",
    "        print('your bill is Rs :', n*15)\n",
    "    elif n>1000:\n",
    "        print('your bill is Rs :', n*20)"
   ]
  },
  {
   "cell_type": "code",
   "execution_count": 16,
   "metadata": {},
   "outputs": [],
   "source": [
    "def instructions():                     # print the instructions\n",
    "    print('last date of paying the bill is 20 april')\n",
    "    print('after 20 april you need to pay Rs 100 as a fine')\n",
    "    print('electricity office new delhi')"
   ]
  },
  {
   "cell_type": "code",
   "execution_count": 18,
   "metadata": {},
   "outputs": [
    {
     "name": "stdout",
     "output_type": "stream",
     "text": [
      "customer name :  karan singh\n",
      "your bill is Rs : 5680\n",
      "last date of paying the bill is 20 april\n",
      "after 20 april you need to pay Rs 100 as a fine\n",
      "electricity office new delhi\n"
     ]
    }
   ],
   "source": [
    "for i in range(1):                          # print the final details of the customer\n",
    "    a = input('enter the name of a customer')\n",
    "    n = int(input('enter the unit of electricity you have used'))\n",
    "    print('customer name : ',a)\n",
    "    electricity_bill(n)\n",
    "    instructions()"
   ]
  },
  {
   "cell_type": "code",
   "execution_count": null,
   "metadata": {},
   "outputs": [],
   "source": []
  }
 ],
 "metadata": {
  "kernelspec": {
   "display_name": "base",
   "language": "python",
   "name": "python3"
  },
  "language_info": {
   "codemirror_mode": {
    "name": "ipython",
    "version": 3
   },
   "file_extension": ".py",
   "mimetype": "text/x-python",
   "name": "python",
   "nbconvert_exporter": "python",
   "pygments_lexer": "ipython3",
   "version": "3.12.3"
  }
 },
 "nbformat": 4,
 "nbformat_minor": 2
}
