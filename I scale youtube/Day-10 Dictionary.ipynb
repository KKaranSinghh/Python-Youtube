{
 "cells": [
  {
   "cell_type": "markdown",
   "metadata": {},
   "source": [
    "## Dictionary { }\n",
    "- Dictionaries are used to store data values in ( key : value pairs. ), and can be reffered to by using the key name.\n",
    "- Dictionaries and list share the following characteristics\n",
    "- Both are mutable.\n",
    "- Both are dynamic. they can grow and shrink as needed.\n",
    "- Both can be nested. A list can contain another list. A dictionary can contain another dictionary. A dictionary can also contain a list, and vice versa.\n",
    "- Dictionary items are ordered, changeable, and does not allow duplicates.\n",
    "    - Ordered means that the items have a define order, and that order will not change."
   ]
  },
  {
   "cell_type": "markdown",
   "metadata": {},
   "source": [
    "### Create a dictionary"
   ]
  },
  {
   "cell_type": "code",
   "execution_count": 1,
   "metadata": {},
   "outputs": [],
   "source": [
    "a = {\n",
    "    'id' : '123ab',\n",
    "    'color' : 'black',\n",
    "    'year' : 1964\n",
    "}"
   ]
  },
  {
   "cell_type": "code",
   "execution_count": 2,
   "metadata": {},
   "outputs": [
    {
     "name": "stdout",
     "output_type": "stream",
     "text": [
      "{'id': '123ab', 'color': 'black', 'year': 1964}\n",
      "<class 'dict'>\n"
     ]
    }
   ],
   "source": [
    "print(a)\n",
    "print(type(a))"
   ]
  },
  {
   "cell_type": "code",
   "execution_count": 3,
   "metadata": {},
   "outputs": [],
   "source": [
    "a = {\n",
    "    'id' : '123ab',\n",
    "    'color' : 'black',\n",
    "    'year' : 1964\n",
    "}"
   ]
  },
  {
   "cell_type": "code",
   "execution_count": 4,
   "metadata": {},
   "outputs": [
    {
     "name": "stdout",
     "output_type": "stream",
     "text": [
      "black\n"
     ]
    }
   ],
   "source": [
    "print(a['color'])   # reffered by key name"
   ]
  },
  {
   "cell_type": "code",
   "execution_count": 8,
   "metadata": {},
   "outputs": [
    {
     "name": "stdout",
     "output_type": "stream",
     "text": [
      "{'id': '123ab', 'color': 'black', 'year': 2014}\n"
     ]
    }
   ],
   "source": [
    "# Duplicates not allowed\n",
    "\n",
    "a= {\n",
    "    'id' : '123ab',\n",
    "    'color' : 'black',\n",
    "    'year' : 1964,\n",
    "    'year' : 2014        # it will print latest duplicate value \n",
    "}\n",
    "print(a)"
   ]
  },
  {
   "cell_type": "code",
   "execution_count": 15,
   "metadata": {},
   "outputs": [
    {
     "name": "stdout",
     "output_type": "stream",
     "text": [
      "{'name': 'karan', 'age': 24, 'country': 'india'}\n"
     ]
    }
   ],
   "source": [
    "# Another method to create dictionary by ( dict constructor)\n",
    "\n",
    "x = dict(name = 'karan', age = 24, country = 'india')\n",
    "print(x)"
   ]
  },
  {
   "cell_type": "markdown",
   "metadata": {},
   "source": [
    "### Dictionary Length"
   ]
  },
  {
   "cell_type": "code",
   "execution_count": 9,
   "metadata": {},
   "outputs": [
    {
     "name": "stdout",
     "output_type": "stream",
     "text": [
      "3\n"
     ]
    }
   ],
   "source": [
    "a= {\n",
    "    'id' : '123ab',\n",
    "    'color' : 'black',\n",
    "    'year' : 1964\n",
    "}\n",
    "print(len(a))"
   ]
  },
  {
   "cell_type": "markdown",
   "metadata": {},
   "source": [
    "### Types of data"
   ]
  },
  {
   "cell_type": "code",
   "execution_count": 12,
   "metadata": {},
   "outputs": [
    {
     "name": "stdout",
     "output_type": "stream",
     "text": [
      "{'id': '123ab', 'color': 'black', 'year': 1964, 'a': [1, 2, 3, 4, 5], 'b': (2.3, 3.4, 5.2), 'c': False}\n"
     ]
    }
   ],
   "source": [
    "dic= {\n",
    "    'id' : '123ab',\n",
    "    'color' : 'black',      # string\n",
    "    'year' : 1964,          # integer\n",
    "    'a' : [1,2,3,4,5],      # List\n",
    "    'b' : (2.3,3.4,5.2),    # tuple\n",
    "    'c' : False             # bolean\n",
    "}\n",
    "print(dic)"
   ]
  },
  {
   "cell_type": "markdown",
   "metadata": {},
   "source": [
    "### Find the key vlaue"
   ]
  },
  {
   "cell_type": "code",
   "execution_count": 20,
   "metadata": {},
   "outputs": [
    {
     "name": "stdout",
     "output_type": "stream",
     "text": [
      "24\n"
     ]
    }
   ],
   "source": [
    "# 1st method to find key value\n",
    "\n",
    "x = {'name' : 'karan', 'age' : '24', 'country' : 'india'}\n",
    "print(x['age'])\n"
   ]
  },
  {
   "cell_type": "code",
   "execution_count": 21,
   "metadata": {},
   "outputs": [
    {
     "name": "stdout",
     "output_type": "stream",
     "text": [
      "india\n"
     ]
    }
   ],
   "source": [
    "# 2nd method to find key value\n",
    "\n",
    "x = {'name' : 'karan', 'age' : '24', 'country' : 'india'}\n",
    "print(x.get('country'))"
   ]
  },
  {
   "cell_type": "code",
   "execution_count": 22,
   "metadata": {},
   "outputs": [],
   "source": [
    "# To find all the key names in the dictionary\n",
    "\n",
    "x = {'name' : 'karan', 'age' : '24', 'country' : 'india'}\n",
    "b = x.keys()"
   ]
  },
  {
   "cell_type": "code",
   "execution_count": 23,
   "metadata": {},
   "outputs": [
    {
     "data": {
      "text/plain": [
       "dict_keys(['name', 'age', 'country'])"
      ]
     },
     "execution_count": 23,
     "metadata": {},
     "output_type": "execute_result"
    }
   ],
   "source": [
    "b     "
   ]
  },
  {
   "cell_type": "code",
   "execution_count": 24,
   "metadata": {},
   "outputs": [],
   "source": [
    "# To find all the values in the dictionary\n",
    "\n",
    "x = {'name' : 'karan', 'age' : '24', 'country' : 'india'}\n",
    "c = x.values()\n"
   ]
  },
  {
   "cell_type": "code",
   "execution_count": 25,
   "metadata": {},
   "outputs": [
    {
     "data": {
      "text/plain": [
       "dict_values(['karan', '24', 'india'])"
      ]
     },
     "execution_count": 25,
     "metadata": {},
     "output_type": "execute_result"
    }
   ],
   "source": [
    "c"
   ]
  },
  {
   "cell_type": "markdown",
   "metadata": {},
   "source": [
    "### How to make changes into dictionary"
   ]
  },
  {
   "cell_type": "code",
   "execution_count": 26,
   "metadata": {},
   "outputs": [
    {
     "name": "stdout",
     "output_type": "stream",
     "text": [
      "{'name': 'karan', 'age': 26, 'country': 'india'}\n"
     ]
    }
   ],
   "source": [
    "x = {'name' : 'karan', \n",
    "     'age' : '24', \n",
    "     'country' : 'india'}\n",
    "x['age'] = 26                \n",
    "print(x)  "
   ]
  },
  {
   "cell_type": "code",
   "execution_count": 29,
   "metadata": {},
   "outputs": [
    {
     "name": "stdout",
     "output_type": "stream",
     "text": [
      "{'name': 'karan', 'age': '24', 'country': 'india', 'gender': 'male', 'email': 'karan@gmail.com'}\n"
     ]
    }
   ],
   "source": [
    "# How to add new key and value into dictionary\n",
    "\n",
    "x = {'name' : 'karan', \n",
    "     'age' : '24', \n",
    "     'country' : 'india'}\n",
    "x.update({'gender' : 'male','email' : 'karan@gmail.com'})   # x.update with ({})\n",
    "print(x)\n"
   ]
  },
  {
   "cell_type": "code",
   "execution_count": 31,
   "metadata": {},
   "outputs": [
    {
     "name": "stdout",
     "output_type": "stream",
     "text": [
      "{'name': 'karan', 'country': 'india', 'gender': 'male'}\n"
     ]
    }
   ],
   "source": [
    "# To remove something from dictionary \n",
    "\n",
    "x = {'name' : 'karan', \n",
    "     'age' : '24', \n",
    "     'country' : 'india',\n",
    "     'gender' : 'male'}\n",
    "x.pop('age')              # .pop()\n",
    "print(x)"
   ]
  },
  {
   "cell_type": "code",
   "execution_count": 33,
   "metadata": {},
   "outputs": [
    {
     "name": "stdout",
     "output_type": "stream",
     "text": [
      "{'name': 'karan', 'age': '24', 'gender': 'male'}\n"
     ]
    }
   ],
   "source": [
    "x = {'name' : 'karan', \n",
    "     'age' : '24', \n",
    "     'country' : 'india',\n",
    "     'gender' : 'male'}\n",
    "del x['country']            # del (to remove or delete somthing from dictionary)\n",
    "print(x)"
   ]
  },
  {
   "cell_type": "code",
   "execution_count": 35,
   "metadata": {},
   "outputs": [
    {
     "name": "stdout",
     "output_type": "stream",
     "text": [
      "{}\n",
      "<class 'dict'>\n"
     ]
    }
   ],
   "source": [
    "x = {'name' : 'karan', \n",
    "     'age' : '24', \n",
    "     'country' : 'india',\n",
    "     'gender' : 'male'}\n",
    "x.clear()                  # .clear ( it will clear the dictionary and provide you an empty dictionary)\n",
    "print(x)\n",
    "print(type(x))"
   ]
  },
  {
   "cell_type": "markdown",
   "metadata": {},
   "source": [
    "### Concatination in dictionary"
   ]
  },
  {
   "cell_type": "code",
   "execution_count": 36,
   "metadata": {},
   "outputs": [
    {
     "name": "stdout",
     "output_type": "stream",
     "text": [
      "{1: 10, 2: 30, 3: 20, 4: 40, 5: 50, 6: 60}\n"
     ]
    }
   ],
   "source": [
    "dict1 ={1:10, 2:30}\n",
    "dict2 ={3:20, 4:40}\n",
    "dict3 ={5:50, 6:60}\n",
    "dict4 ={}\n",
    "for i in (dict1,dict2,dict3): dict4.update(i)\n",
    "print(dict4)"
   ]
  },
  {
   "cell_type": "markdown",
   "metadata": {},
   "source": [
    "## for loop in dictionary"
   ]
  },
  {
   "cell_type": "code",
   "execution_count": 44,
   "metadata": {},
   "outputs": [
    {
     "name": "stdout",
     "output_type": "stream",
     "text": [
      "{1: 1}\n",
      "{1: 1, 2: 4}\n",
      "{1: 1, 2: 4, 3: 9}\n",
      "{1: 1, 2: 4, 3: 9, 4: 16}\n",
      "{1: 1, 2: 4, 3: 9, 4: 16, 5: 25}\n",
      "{1: 1, 2: 4, 3: 9, 4: 16, 5: 25, 6: 36}\n",
      "{1: 1, 2: 4, 3: 9, 4: 16, 5: 25, 6: 36, 7: 49}\n",
      "{1: 1, 2: 4, 3: 9, 4: 16, 5: 25, 6: 36, 7: 49, 8: 64}\n",
      "{1: 1, 2: 4, 3: 9, 4: 16, 5: 25, 6: 36, 7: 49, 8: 64, 9: 81}\n",
      "{1: 1, 2: 4, 3: 9, 4: 16, 5: 25, 6: 36, 7: 49, 8: 64, 9: 81, 10: 100}\n",
      "{1: 1, 2: 4, 3: 9, 4: 16, 5: 25, 6: 36, 7: 49, 8: 64, 9: 81, 10: 100, 11: 121}\n",
      "{1: 1, 2: 4, 3: 9, 4: 16, 5: 25, 6: 36, 7: 49, 8: 64, 9: 81, 10: 100, 11: 121, 12: 144}\n",
      "{1: 1, 2: 4, 3: 9, 4: 16, 5: 25, 6: 36, 7: 49, 8: 64, 9: 81, 10: 100, 11: 121, 12: 144, 13: 169}\n",
      "{1: 1, 2: 4, 3: 9, 4: 16, 5: 25, 6: 36, 7: 49, 8: 64, 9: 81, 10: 100, 11: 121, 12: 144, 13: 169, 14: 196}\n",
      "{1: 1, 2: 4, 3: 9, 4: 16, 5: 25, 6: 36, 7: 49, 8: 64, 9: 81, 10: 100, 11: 121, 12: 144, 13: 169, 14: 196, 15: 225}\n"
     ]
    }
   ],
   "source": [
    "d = dict()             # 1st method\n",
    "for x in range(1,16):\n",
    "    d[x] = x**2\n",
    "    print(d)"
   ]
  },
  {
   "cell_type": "code",
   "execution_count": 45,
   "metadata": {},
   "outputs": [
    {
     "name": "stdout",
     "output_type": "stream",
     "text": [
      "1 **2 =  1\n",
      "2 **2 =  4\n",
      "3 **2 =  9\n",
      "4 **2 =  16\n",
      "5 **2 =  25\n",
      "6 **2 =  36\n",
      "7 **2 =  49\n",
      "8 **2 =  64\n",
      "9 **2 =  81\n",
      "10 **2 =  100\n",
      "11 **2 =  121\n",
      "12 **2 =  144\n",
      "13 **2 =  169\n",
      "14 **2 =  196\n",
      "15 **2 =  225\n"
     ]
    }
   ],
   "source": [
    "d = dict()                  #2nd method\n",
    "for x in range(1,16):\n",
    "    d = x**2\n",
    "    print(x,'**2 = ', d)"
   ]
  },
  {
   "cell_type": "code",
   "execution_count": null,
   "metadata": {},
   "outputs": [],
   "source": []
  }
 ],
 "metadata": {
  "kernelspec": {
   "display_name": "base",
   "language": "python",
   "name": "python3"
  },
  "language_info": {
   "codemirror_mode": {
    "name": "ipython",
    "version": 3
   },
   "file_extension": ".py",
   "mimetype": "text/x-python",
   "name": "python",
   "nbconvert_exporter": "python",
   "pygments_lexer": "ipython3",
   "version": "3.12.3"
  }
 },
 "nbformat": 4,
 "nbformat_minor": 2
}
