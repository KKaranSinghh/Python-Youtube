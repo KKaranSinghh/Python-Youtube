{
 "cells": [
  {
   "cell_type": "code",
   "execution_count": null,
   "metadata": {},
   "outputs": [],
   "source": [
    "num1= int(input(\"enter first number\"))\n",
    "num2= int(input(\"enter second number\"))\n",
    "print(num1+num2)"
   ]
  },
  {
   "cell_type": "markdown",
   "metadata": {},
   "source": [
    "\n",
    "# Karan Singh"
   ]
  },
  {
   "cell_type": "code",
   "execution_count": null,
   "metadata": {},
   "outputs": [],
   "source": [
    "num = (input(\"enter a number\"))\n",
    "num = float(num)\n",
    "type(num)\n"
   ]
  },
  {
   "cell_type": "code",
   "execution_count": null,
   "metadata": {},
   "outputs": [],
   "source": [
    "num = int(input(\"enter the number\"))\n",
    "print(num)"
   ]
  },
  {
   "cell_type": "code",
   "execution_count": null,
   "metadata": {},
   "outputs": [],
   "source": [
    "cha = (input(\"enter a name\"))\n",
    "print(cha)"
   ]
  },
  {
   "cell_type": "code",
   "execution_count": null,
   "metadata": {},
   "outputs": [],
   "source": [
    "\"\"\"hello world\"\"\"\n"
   ]
  },
  {
   "cell_type": "code",
   "execution_count": null,
   "metadata": {},
   "outputs": [],
   "source": [
    "x = 1 \n",
    "y = 1\n",
    "if(x = 1 and y = 1):\n",
    "    print(\"they are equal\")"
   ]
  },
  {
   "cell_type": "code",
   "execution_count": null,
   "metadata": {},
   "outputs": [],
   "source": [
    "movies = []\n",
    "movies.append(input(\"enter 1st movie\"))\n",
    "movies.append(input(\"enter 2nd movie\"))\n",
    "movies.append(input(\"enter 3rd movie\"))\n",
    "print(movies)"
   ]
  },
  {
   "cell_type": "code",
   "execution_count": null,
   "metadata": {},
   "outputs": [],
   "source": [
    "grade = (\"C\", \"D\", \"A\", \"A\",\"B\", \"B\", \"A\")\n",
    "print(grade.count(\"A\"))"
   ]
  },
  {
   "cell_type": "code",
   "execution_count": null,
   "metadata": {},
   "outputs": [],
   "source": [
    "grade = [\"C\", \"D\", \"A\", \"A\",\"B\", \"B\", \"A\"]\n",
    "grade.sort()\n",
    "print(grade)"
   ]
  },
  {
   "cell_type": "markdown",
   "metadata": {},
   "source": [
    "### dictionary"
   ]
  },
  {
   "cell_type": "code",
   "execution_count": 1,
   "metadata": {},
   "outputs": [
    {
     "name": "stdout",
     "output_type": "stream",
     "text": [
      "value\n",
      "coding\n"
     ]
    }
   ],
   "source": [
    "info = {\n",
    "    \"key\" : \"value\",\n",
    "    \"name\" : \"apnacollege\",\n",
    "    \"learning\" : \"coding\",\n",
    "    \"age\" : 35,\n",
    "    \"is_adult\" : True,\n",
    "    \"marks\" : 94.4\n",
    "}\n",
    "# print(\"info\")\n",
    "print(info[\"key\"])\n",
    "print(info[\"learning\"]) "
   ]
  },
  {
   "cell_type": "code",
   "execution_count": null,
   "metadata": {},
   "outputs": [],
   "source": [
    "info = {\n",
    "    \"key\" : \"value\",\n",
    "    \"name\" : \"apnacollege\",\n",
    "    \"learning\" : \"coding\",\n",
    "    \"age\" : 35,\n",
    "    \"is_adult\" : True,\n",
    "    \"marks\" : 94.4\n",
    "}\n",
    "info[\"name\"] = \"karan\"\n",
    "print(info)"
   ]
  },
  {
   "cell_type": "code",
   "execution_count": null,
   "metadata": {},
   "outputs": [],
   "source": [
    "word_meanings = {\n",
    "    \"table\" : [\" a piece of furniture\",\"list of facts and figures\"],\n",
    "    \"cat\" : \"a small animal\"\n",
    "}\n",
    "print(word_meanings)\n",
    "print(type(word_meanings))"
   ]
  },
  {
   "cell_type": "code",
   "execution_count": null,
   "metadata": {},
   "outputs": [],
   "source": [
    "subjects = {\n",
    "    \"pythob\", \"java\", \"c++\", \"python\", \"javascript\",\n",
    "    \"java\",\"python\", \"java\", \"c++\", \"c\"\n",
    "}\n",
    "print(subjects)\n",
    "print(type(subjects))"
   ]
  },
  {
   "cell_type": "code",
   "execution_count": null,
   "metadata": {},
   "outputs": [],
   "source": []
  },
  {
   "cell_type": "code",
   "execution_count": null,
   "metadata": {},
   "outputs": [],
   "source": [
    "marks = {}\n",
    "\n",
    "x = int(input(\"enter hindi marks :\"))\n",
    "marks.update({\"hindi\" : x})\n",
    "\n",
    "x = int(input(\"enter english marks :\"))\n",
    "marks.update({\"english\" : x})\n",
    "\n",
    "x = int(input(\"enter science marks :\"))\n",
    "marks.update({\"science\" : x})\n",
    "\n",
    "print(marks)\n",
    "print(type(marks))\n",
    " "
   ]
  },
  {
   "cell_type": "markdown",
   "metadata": {},
   "source": [
    "### Loops\n",
    "#### While Loops"
   ]
  },
  {
   "cell_type": "code",
   "execution_count": null,
   "metadata": {},
   "outputs": [],
   "source": [
    "count = 1\n",
    "while count <= 5 :   ## while condition\n",
    "    print(count, \"hello\")\n",
    "    count += 1"
   ]
  },
  {
   "cell_type": "code",
   "execution_count": null,
   "metadata": {},
   "outputs": [],
   "source": [
    "num = 1     ### print numbers 1 to 100\n",
    "while num <= 100:\n",
    "    print(num)\n",
    "    num += 1"
   ]
  },
  {
   "cell_type": "code",
   "execution_count": null,
   "metadata": {},
   "outputs": [],
   "source": [
    "num = 100        ### print numbers 100 to 1\n",
    "while num >= 1:\n",
    "    print(num)\n",
    "    num -= 1"
   ]
  },
  {
   "cell_type": "code",
   "execution_count": null,
   "metadata": {},
   "outputs": [],
   "source": [
    "n = int(input(\"enter any number\"))\n",
    "i = 1            ### table\n",
    "while i <= 10:\n",
    "    print(n*i)\n",
    "    i += 1\n",
    "\n",
    " "
   ]
  },
  {
   "cell_type": "code",
   "execution_count": null,
   "metadata": {},
   "outputs": [],
   "source": [
    "nums = [1, 4, 9, 16, 25, 36, 49, 64, 81, 100]\n",
    "idx = 0               ### print the element of list using loops\n",
    "while idx < len(nums):\n",
    "    print(nums[idx])\n",
    "    idx += 1"
   ]
  },
  {
   "cell_type": "code",
   "execution_count": null,
   "metadata": {},
   "outputs": [],
   "source": [
    "nums = (1, 4, 9, 16, 25, 36, 49, 64, 81, 100)\n",
    "x = 64\n",
    "i = 0\n",
    "while i < len(nums):\n",
    "    if(nums[i] == x):\n",
    "        print(\"Found at idx\", i)\n",
    "    i += 1\n"
   ]
  },
  {
   "cell_type": "markdown",
   "metadata": {},
   "source": [
    "### (For) Loop"
   ]
  },
  {
   "cell_type": "code",
   "execution_count": null,
   "metadata": {},
   "outputs": [],
   "source": [
    "list = [1, 4, 9, 16, 25, 36, 49, 64, 81, 100]\n",
    "for num in list:\n",
    "    print(num)"
   ]
  },
  {
   "cell_type": "code",
   "execution_count": null,
   "metadata": {},
   "outputs": [],
   "source": [
    "tup = (1, 4, 9, 16, 25, 36, 49, 64, 81, 100)\n",
    "x = 25\n",
    "idx = 0\n",
    "for i in tup:\n",
    "    if(i == x):\n",
    "        print(\"number found\", idx, i)\n",
    "    idx += 1\n",
    "\n",
    "  "
   ]
  },
  {
   "cell_type": "code",
   "execution_count": null,
   "metadata": {},
   "outputs": [],
   "source": [
    "n = int(input(\"enter a number :\"))\n",
    "for i in range(1, 11):\n",
    "    print(n * i)"
   ]
  },
  {
   "cell_type": "code",
   "execution_count": null,
   "metadata": {},
   "outputs": [],
   "source": [
    "n = 5\n",
    "sum = 0\n",
    "for i in range(1, n+1):\n",
    "    sum += i\n",
    "print(\"total sum = \", sum)"
   ]
  },
  {
   "cell_type": "markdown",
   "metadata": {},
   "source": [
    "### Function"
   ]
  },
  {
   "cell_type": "code",
   "execution_count": null,
   "metadata": {},
   "outputs": [],
   "source": [
    "def calc_sum(a, b):\n",
    "    sum = a + b\n",
    "    print(sum)\n",
    "    return sum\n",
    "\n",
    "\n",
    "calc_sum(5, 10)\n",
    "\n",
    "\n",
    "\n",
    "calc_sum(3,23)\n",
    "\n",
    "\n",
    "calc_sum(4, 6)\n"
   ]
  },
  {
   "cell_type": "code",
   "execution_count": null,
   "metadata": {},
   "outputs": [],
   "source": [
    "def calc_sum(a, b, c):\n",
    "    sum = a + b + c\n",
    "    avg = sum / 3\n",
    "    print(avg)\n",
    "    return(avg)\n",
    "\n",
    "\n",
    "calc_sum(2, 6, 8)"
   ]
  },
  {
   "cell_type": "code",
   "execution_count": null,
   "metadata": {},
   "outputs": [],
   "source": [
    "## Program to print the length of list\n",
    "\n",
    "cities = [\"delhi\", \"gurgaon\", \"noida\", \"pune\", \"mumbai\", \"chennai\"]\n",
    "heroes = [\"thor\", \"ironman\", \"caprin america\", \"shaktiman\"]\n",
    "\n",
    "def print_len(list):\n",
    "    print(len(list))\n",
    "\n",
    "print_len(cities)\n",
    "print_len(heroes)"
   ]
  },
  {
   "cell_type": "code",
   "execution_count": null,
   "metadata": {},
   "outputs": [],
   "source": [
    "## Progam to print the elements of a list in a single line\n",
    "\n",
    "cities = [\"delhi\", \"gurgaon\", \"noida\", \"pune\", \"mumbai\", \"chennai\"]\n",
    "heroes = [\"thor\", \"ironman\", \"caprin america\", \"shaktiman\"]\n",
    "\n",
    "def print_len(list):\n",
    "    print(len(list))\n",
    "\n",
    "def print_list(list):\n",
    "    for item in list:\n",
    "        print(item, end = \" \")\n",
    "\n",
    "print_list(cities) \n",
    "print_list(heroes)\n"
   ]
  },
  {
   "cell_type": "code",
   "execution_count": null,
   "metadata": {},
   "outputs": [],
   "source": [
    "## Program to find the factorial of n. (n is the parameter)\n",
    "\n",
    "def calc_fact(n):\n",
    "#n = 5\n",
    "    fact = 1\n",
    "    for i in range(1, n+1):\n",
    "        fact *=i\n",
    "    print(fact)\n",
    "\n",
    "calc_fact(8)"
   ]
  },
  {
   "cell_type": "code",
   "execution_count": null,
   "metadata": {},
   "outputs": [],
   "source": [
    "## recursive function\n",
    "\n",
    "def show(n):\n",
    "    if n == 0: ### its known as (base case)\n",
    "        return\n",
    "    print(n)\n",
    "    show(n - 1)\n",
    "\n",
    "show(6)"
   ]
  },
  {
   "cell_type": "markdown",
   "metadata": {},
   "source": [
    "### While Loop"
   ]
  },
  {
   "cell_type": "code",
   "execution_count": 7,
   "metadata": {},
   "outputs": [
    {
     "name": "stdout",
     "output_type": "stream",
     "text": [
      "6\n",
      "5\n",
      "4\n",
      "3\n",
      "2\n",
      "1\n",
      "0\n",
      "end loop\n"
     ]
    }
   ],
   "source": [
    "i = 6\n",
    "while i >= 0:\n",
    "    print(i)\n",
    "    i -= 1\n",
    "print(\"end loop\")\n"
   ]
  },
  {
   "cell_type": "code",
   "execution_count": 12,
   "metadata": {},
   "outputs": [
    {
     "name": "stdout",
     "output_type": "stream",
     "text": [
      "1\n",
      "3\n",
      "5\n",
      "7\n",
      "9\n",
      "11\n",
      "13\n",
      "15\n",
      "17\n",
      "19\n",
      "21\n",
      "23\n",
      "25\n",
      "27\n",
      "29\n",
      "31\n",
      "33\n",
      "35\n",
      "37\n",
      "39\n",
      "41\n",
      "43\n",
      "45\n",
      "47\n",
      "49\n",
      "51\n",
      "53\n",
      "55\n",
      "57\n",
      "59\n",
      "61\n",
      "63\n",
      "65\n",
      "67\n",
      "69\n",
      "71\n",
      "73\n",
      "75\n",
      "77\n",
      "79\n",
      "81\n",
      "83\n",
      "85\n",
      "87\n",
      "89\n",
      "91\n",
      "93\n",
      "95\n",
      "97\n",
      "99\n",
      "end loop\n"
     ]
    }
   ],
   "source": [
    "i = 1\n",
    "while i <= 100:\n",
    "    print(i)\n",
    "    i += 2\n",
    "print(\"end loop\")"
   ]
  },
  {
   "cell_type": "code",
   "execution_count": 11,
   "metadata": {},
   "outputs": [
    {
     "name": "stdout",
     "output_type": "stream",
     "text": [
      "100\n",
      "99\n",
      "98\n",
      "97\n",
      "96\n",
      "95\n",
      "94\n",
      "93\n",
      "92\n",
      "91\n",
      "90\n",
      "89\n",
      "88\n",
      "87\n",
      "86\n",
      "85\n",
      "84\n",
      "83\n",
      "82\n",
      "81\n",
      "80\n",
      "79\n",
      "78\n",
      "77\n",
      "76\n",
      "75\n",
      "74\n",
      "73\n",
      "72\n",
      "71\n",
      "70\n",
      "69\n",
      "68\n",
      "67\n",
      "66\n",
      "65\n",
      "64\n",
      "63\n",
      "62\n",
      "61\n",
      "60\n",
      "59\n",
      "58\n",
      "57\n",
      "56\n",
      "55\n",
      "54\n",
      "53\n",
      "52\n",
      "51\n",
      "50\n",
      "49\n",
      "48\n",
      "47\n",
      "46\n",
      "45\n",
      "44\n",
      "43\n",
      "42\n",
      "41\n",
      "40\n",
      "39\n",
      "38\n",
      "37\n",
      "36\n",
      "35\n",
      "34\n",
      "33\n",
      "32\n",
      "31\n",
      "30\n",
      "29\n",
      "28\n",
      "27\n",
      "26\n",
      "25\n",
      "24\n",
      "23\n",
      "22\n",
      "21\n",
      "20\n",
      "19\n",
      "18\n",
      "17\n",
      "16\n",
      "15\n",
      "14\n",
      "13\n",
      "12\n",
      "11\n",
      "10\n",
      "9\n",
      "8\n",
      "7\n",
      "6\n",
      "5\n",
      "4\n",
      "3\n",
      "2\n",
      "1\n",
      "end loop\n"
     ]
    }
   ],
   "source": [
    "i = 100\n",
    "while i >= 1:\n",
    "    print(i)\n",
    "    i -= 1\n",
    "print(\"end loop\")"
   ]
  },
  {
   "cell_type": "code",
   "execution_count": 1,
   "metadata": {},
   "outputs": [
    {
     "name": "stdout",
     "output_type": "stream",
     "text": [
      "Table of = 18\n",
      "\n",
      "18 x 1 = 18\n",
      "18 x 2 = 36\n",
      "18 x 3 = 54\n",
      "18 x 4 = 72\n",
      "18 x 5 = 90\n",
      "18 x 6 = 108\n",
      "18 x 7 = 126\n",
      "18 x 8 = 144\n",
      "18 x 9 = 162\n",
      "18 x 10 = 180\n"
     ]
    }
   ],
   "source": [
    "n = int(input(\"enter a number\"))\n",
    "i = 1\n",
    "print(\"Table of =\", n)\n",
    "print()\n",
    "while i <= 10:\n",
    "    print(n, \"x\", i, \"=\", n * i )\n",
    "    i += 1"
   ]
  },
  {
   "cell_type": "code",
   "execution_count": 2,
   "metadata": {},
   "outputs": [
    {
     "name": "stdout",
     "output_type": "stream",
     "text": [
      "0\n",
      "1\n",
      "2\n",
      "3\n",
      "4\n",
      "5\n",
      "6\n",
      "7\n",
      "8\n",
      "9\n"
     ]
    }
   ],
   "source": [
    "nums = [1, 4, 9, 16, 25, 36, 49, 64, 81, 100 ]\n",
    "idx = 0\n",
    "while idx < len(nums):\n",
    "    print(idx )\n",
    "    idx +=1\n",
    " "
   ]
  },
  {
   "cell_type": "code",
   "execution_count": 4,
   "metadata": {},
   "outputs": [
    {
     "name": "stdout",
     "output_type": "stream",
     "text": [
      "ironman\n",
      "thor\n",
      "superman\n",
      "batman\n"
     ]
    }
   ],
   "source": [
    "heroes = [\"ironman\", \"thor\", \"superman\", \"batman\"]\n",
    "idx = 0\n",
    "while idx < len(heroes):\n",
    "    print(heroes[idx])\n",
    "    idx += 1"
   ]
  },
  {
   "cell_type": "code",
   "execution_count": 6,
   "metadata": {},
   "outputs": [
    {
     "name": "stdout",
     "output_type": "stream",
     "text": [
      "found at idx = 3\n"
     ]
    }
   ],
   "source": [
    "num = (1, 4, 9, 16, 25, 36, 49, 64, 81, 100)\n",
    "x = int(input(\"enter any number\"))\n",
    "i = 0\n",
    "while i < len(num):\n",
    "    if num[i] == x:\n",
    "        print(\"found at idx =\", i)\n",
    "    i += 1"
   ]
  },
  {
   "cell_type": "code",
   "execution_count": 7,
   "metadata": {},
   "outputs": [
    {
     "name": "stdout",
     "output_type": "stream",
     "text": [
      "1\n",
      "4\n",
      "9\n",
      "16\n",
      "25\n",
      "36\n",
      "49\n",
      "64\n",
      "81\n",
      "100\n"
     ]
    }
   ],
   "source": [
    "nums = [1, 4, 9, 16, 25, 36, 49, 64, 81, 100 ]\n",
    "for i in nums:\n",
    "    print(i)\n",
    "\n"
   ]
  },
  {
   "cell_type": "code",
   "execution_count": 15,
   "metadata": {},
   "outputs": [
    {
     "name": "stdout",
     "output_type": "stream",
     "text": [
      "ladyfinger\n",
      "potato\n",
      "tomato\n",
      "onion\n"
     ]
    }
   ],
   "source": [
    "veg = [\"ladyfinger\", \"potato\", \"tomato\", \"onion\"]\n",
    "for i in veg:\n",
    "    print(i)"
   ]
  },
  {
   "cell_type": "code",
   "execution_count": 16,
   "metadata": {},
   "outputs": [
    {
     "name": "stdout",
     "output_type": "stream",
     "text": [
      "d\n",
      "i\n",
      "g\n",
      "i\n",
      "p\n",
      "o\n",
      "d\n",
      "i\n",
      "u\n",
      "m\n"
     ]
    }
   ],
   "source": [
    "str = \"digipodium\"\n",
    "for i in str:\n",
    "    print(i)\n"
   ]
  },
  {
   "cell_type": "code",
   "execution_count": 3,
   "metadata": {},
   "outputs": [
    {
     "name": "stdout",
     "output_type": "stream",
     "text": [
      "1\n",
      "2\n",
      "3\n",
      "4\n",
      "5 found\n",
      "end\n"
     ]
    }
   ],
   "source": [
    "nums = [1, 2, 3, 4, 5, 6, 7, 8]\n",
    "for i in nums:\n",
    "    if i == 5:\n",
    "        print(i, \"found\")\n",
    "        break\n",
    "    print(i)\n",
    "print(\"end\")\n",
    "   \n",
    "   \n",
    "    \n",
    "        \n",
    "    "
   ]
  },
  {
   "cell_type": "code",
   "execution_count": 8,
   "metadata": {},
   "outputs": [
    {
     "name": "stdout",
     "output_type": "stream",
     "text": [
      "match\n"
     ]
    }
   ],
   "source": [
    "num, i, sum, = 5, 2, 0\n",
    "if i <= num:\n",
    "    print(\"match\")\n",
    "    sum += 1\n",
    "    i += 1"
   ]
  },
  {
   "cell_type": "code",
   "execution_count": 1,
   "metadata": {},
   "outputs": [
    {
     "name": "stdout",
     "output_type": "stream",
     "text": [
      "1\n",
      "2\n",
      "3\n",
      "4\n"
     ]
    }
   ],
   "source": [
    " # program to display numbers from 1 to 5\n",
    "\n",
    "i = 1\n",
    "n = 5\n",
    "while i < n:\n",
    "    print(i)\n",
    "    i = i + 1"
   ]
  },
  {
   "cell_type": "code",
   "execution_count": null,
   "metadata": {},
   "outputs": [],
   "source": []
  }
 ],
 "metadata": {
  "kernelspec": {
   "display_name": "Python 3",
   "language": "python",
   "name": "python3"
  },
  "language_info": {
   "codemirror_mode": {
    "name": "ipython",
    "version": 3
   },
   "file_extension": ".py",
   "mimetype": "text/x-python",
   "name": "python",
   "nbconvert_exporter": "python",
   "pygments_lexer": "ipython3",
   "version": "3.12.3"
  }
 },
 "nbformat": 4,
 "nbformat_minor": 2
}
