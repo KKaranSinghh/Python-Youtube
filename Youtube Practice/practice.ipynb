{
 "cells": [
  {
   "cell_type": "code",
   "execution_count": 1,
   "metadata": {},
   "outputs": [
    {
     "name": "stdout",
     "output_type": "stream",
     "text": [
      "36\n"
     ]
    }
   ],
   "source": [
    "A = int(input(\"enter a number\"))\n",
    "b = int(input(\"enter a number\"))\n",
    "sum = A + b\n",
    "print(sum)"
   ]
  },
  {
   "cell_type": "markdown",
   "metadata": {},
   "source": [
    "# String_Functions \n",
    "## Changing_line"
   ]
  },
  {
   "cell_type": "code",
   "execution_count": 5,
   "metadata": {},
   "outputs": [
    {
     "name": "stdout",
     "output_type": "stream",
     "text": [
      "this is a string.\n",
      " we are creating it in python.\n"
     ]
    }
   ],
   "source": [
    "str1 = \"this is a string.\\n we are creating it in python.\"\n",
    "print(str1)"
   ]
  },
  {
   "cell_type": "markdown",
   "metadata": {},
   "source": [
    "# endswith"
   ]
  },
  {
   "cell_type": "code",
   "execution_count": 6,
   "metadata": {},
   "outputs": [
    {
     "name": "stdout",
     "output_type": "stream",
     "text": [
      "True\n"
     ]
    }
   ],
   "source": [
    "str = \"i am studying python from apnacollege\"\n",
    "print(str.endswith(\"ege\"))"
   ]
  },
  {
   "cell_type": "markdown",
   "metadata": {},
   "source": [
    "# Capitalize"
   ]
  },
  {
   "cell_type": "code",
   "execution_count": 8,
   "metadata": {},
   "outputs": [
    {
     "name": "stdout",
     "output_type": "stream",
     "text": [
      "I am studying python from apnacollege\n",
      "i am studying python from apnacollege\n"
     ]
    }
   ],
   "source": [
    "str = \"i am studying python from apnacollege\"\n",
    "print(str.capitalize())\n",
    "print(str)"
   ]
  },
  {
   "cell_type": "code",
   "execution_count": 9,
   "metadata": {},
   "outputs": [
    {
     "name": "stdout",
     "output_type": "stream",
     "text": [
      "I am studying python from apnacollege\n"
     ]
    }
   ],
   "source": [
    "str = \"i am studying python from apnacollege\"\n",
    "str = str.capitalize()\n",
    "print(str)\n"
   ]
  },
  {
   "cell_type": "code",
   "execution_count": 34,
   "metadata": {},
   "outputs": [
    {
     "name": "stdout",
     "output_type": "stream",
     "text": [
      "I am studying python from apnacollege\n"
     ]
    }
   ],
   "source": [
    "str = \"i am studying python from apnacollege\"\n",
    "print(str.capitalize())"
   ]
  },
  {
   "cell_type": "markdown",
   "metadata": {},
   "source": [
    "# Replace"
   ]
  },
  {
   "cell_type": "code",
   "execution_count": 10,
   "metadata": {},
   "outputs": [
    {
     "name": "stdout",
     "output_type": "stream",
     "text": [
      "i am studying pythan fram apnacallege\n"
     ]
    }
   ],
   "source": [
    "str = \"i am studying python from apnacollege\"\n",
    "print(str.replace(\"o\", \"a\"))"
   ]
  },
  {
   "cell_type": "code",
   "execution_count": 12,
   "metadata": {},
   "outputs": [
    {
     "name": "stdout",
     "output_type": "stream",
     "text": [
      "i am studying java from apnacollege\n"
     ]
    }
   ],
   "source": [
    "str = \"i am studying python from apnacollege\"\n",
    "print(str.replace(\"python\",\"java\"))"
   ]
  },
  {
   "cell_type": "markdown",
   "metadata": {},
   "source": [
    "# Find"
   ]
  },
  {
   "cell_type": "code",
   "execution_count": 14,
   "metadata": {},
   "outputs": [
    {
     "name": "stdout",
     "output_type": "stream",
     "text": [
      "18\n"
     ]
    }
   ],
   "source": [
    "str = \"i am studying python from apnacollege\"\n",
    "print(str.find(\"o\"))"
   ]
  },
  {
   "cell_type": "code",
   "execution_count": 15,
   "metadata": {},
   "outputs": [
    {
     "name": "stdout",
     "output_type": "stream",
     "text": [
      "21\n"
     ]
    }
   ],
   "source": [
    "str = \"i am studying python from apnacollege\"\n",
    "print(str.find(\"from\"))"
   ]
  },
  {
   "cell_type": "markdown",
   "metadata": {},
   "source": [
    "# Count "
   ]
  },
  {
   "cell_type": "code",
   "execution_count": 17,
   "metadata": {},
   "outputs": [
    {
     "name": "stdout",
     "output_type": "stream",
     "text": [
      "1\n"
     ]
    }
   ],
   "source": [
    "str = \"i am studying python from apnacollege\"\n",
    "print(str.count(\"from\"))"
   ]
  },
  {
   "cell_type": "code",
   "execution_count": 18,
   "metadata": {},
   "outputs": [
    {
     "name": "stdout",
     "output_type": "stream",
     "text": [
      "3\n"
     ]
    }
   ],
   "source": [
    "str = \"i am studying python from apnacollege\"\n",
    "print(str.count(\"a\"))"
   ]
  },
  {
   "cell_type": "markdown",
   "metadata": {},
   "source": [
    "# Practice-questions"
   ]
  },
  {
   "cell_type": "code",
   "execution_count": 33,
   "metadata": {},
   "outputs": [
    {
     "name": "stdout",
     "output_type": "stream",
     "text": [
      "your name is: karan\n",
      "length of your name: 5\n"
     ]
    }
   ],
   "source": [
    "name = input(\"enter your name:\")\n",
    "print(\"your name is:\", input(name))\n",
    "print(\"length of your name:\", len(name))\n"
   ]
  },
  {
   "cell_type": "markdown",
   "metadata": {},
   "source": [
    "## Conditional_statements"
   ]
  },
  {
   "cell_type": "code",
   "execution_count": 35,
   "metadata": {},
   "outputs": [
    {
     "name": "stdout",
     "output_type": "stream",
     "text": [
      "can vote and apply for license\n"
     ]
    }
   ],
   "source": [
    "age = 21\n",
    "\n",
    "if(age>=18):  # if condition\n",
    "    print(\"can vote and apply for license\")"
   ]
  },
  {
   "cell_type": "code",
   "execution_count": 36,
   "metadata": {},
   "outputs": [
    {
     "name": "stdout",
     "output_type": "stream",
     "text": [
      "can vote\n",
      "can drive\n"
     ]
    }
   ],
   "source": [
    "age = 21\n",
    "\n",
    "if(age>=18):\n",
    "    print(\"can vote\")\n",
    "    print(\"can drive\")\n"
   ]
  },
  {
   "cell_type": "code",
   "execution_count": 43,
   "metadata": {},
   "outputs": [
    {
     "name": "stdout",
     "output_type": "stream",
     "text": [
      "wait\n"
     ]
    }
   ],
   "source": [
    "light = \"orange\"  # elif condition\n",
    "\n",
    "if(light == \"red\"):\n",
    "    print(\"stop\")\n",
    "elif(light == \"green\"):\n",
    "    print(\"go\")\n",
    "elif(light == \"orange\"):\n",
    "    print(\"wait\")"
   ]
  },
  {
   "cell_type": "code",
   "execution_count": 45,
   "metadata": {},
   "outputs": [
    {
     "name": "stdout",
     "output_type": "stream",
     "text": [
      "light is broken\n"
     ]
    }
   ],
   "source": [
    "light = \"yellow\"  # else condition\n",
    "\n",
    "if(light == \"red\"):\n",
    "    print(\"stop\")\n",
    "elif(light == \"green\"):\n",
    "    print(\"go\")\n",
    "elif(light == \"orange\"):\n",
    "    print(\"wait\")\n",
    "else:\n",
    "    print(\"light is broken\")\n"
   ]
  },
  {
   "cell_type": "code",
   "execution_count": 46,
   "metadata": {},
   "outputs": [
    {
     "name": "stdout",
     "output_type": "stream",
     "text": [
      "can vote\n"
     ]
    }
   ],
   "source": [
    "age = 21\n",
    "\n",
    "if(age>=18):\n",
    "    print(\"can vote\")\n",
    "else:\n",
    "    print(\"cannot vote\")"
   ]
  },
  {
   "cell_type": "code",
   "execution_count": 50,
   "metadata": {},
   "outputs": [
    {
     "name": "stdout",
     "output_type": "stream",
     "text": [
      "B\n"
     ]
    }
   ],
   "source": [
    "marks = 86\n",
    "\n",
    "if(marks>= 90):\n",
    "    print(\"A\")\n",
    "elif(marks>=80):\n",
    "    print(\"B\")\n",
    "elif(marks>=70):\n",
    "    print(\"C\")\n",
    "elif(marks<70):\n",
    "    print(\"D\")"
   ]
  },
  {
   "cell_type": "code",
   "execution_count": 59,
   "metadata": {},
   "outputs": [
    {
     "name": "stdout",
     "output_type": "stream",
     "text": [
      "grade of the student -> C\n"
     ]
    }
   ],
   "source": [
    "marks = 70      # and conditon\n",
    "\n",
    "if(marks>=90):\n",
    "    grade = \"A\"\n",
    "elif(marks>=80 and marks<90):\n",
    "    grade = \"B\"\n",
    "elif(marks>=70 and marks<80):\n",
    "    grade = \"C\"\n",
    "else:\n",
    "    grade = \"D\"\n",
    "print(\"grade of the student ->\", grade)"
   ]
  },
  {
   "cell_type": "markdown",
   "metadata": {},
   "source": [
    "# nesting"
   ]
  },
  {
   "cell_type": "code",
   "execution_count": 66,
   "metadata": {},
   "outputs": [
    {
     "name": "stdout",
     "output_type": "stream",
     "text": [
      "cannot drive\n"
     ]
    }
   ],
   "source": [
    "age = 85\n",
    "\n",
    "if(age >= 18):\n",
    "    if(age>=80):\n",
    "        print(\"cannot drive\")\n",
    "    else:\n",
    "        print(\"can drive\")\n",
    "else:\n",
    "    print(\"cannot drive\")"
   ]
  },
  {
   "cell_type": "markdown",
   "metadata": {},
   "source": [
    "# Practice questions"
   ]
  },
  {
   "cell_type": "code",
   "execution_count": 68,
   "metadata": {},
   "outputs": [
    {
     "name": "stdout",
     "output_type": "stream",
     "text": [
      "Even\n"
     ]
    }
   ],
   "source": [
    "#num = int(input(\"enter a number\"))\n",
    "num = 34\n",
    "\n",
    "rem = num % 2\n",
    "\n",
    "if(rem == 0):\n",
    "    print(\"Even\")\n",
    "else:\n",
    "    print(\"Odd\")"
   ]
  },
  {
   "cell_type": "code",
   "execution_count": 69,
   "metadata": {},
   "outputs": [
    {
     "name": "stdout",
     "output_type": "stream",
     "text": [
      "second number is largest 85\n"
     ]
    }
   ],
   "source": [
    "a = int(input(\"enter first number:\"))\n",
    "b = int(input(\"enter second number:\"))\n",
    "c = int(input(\"enter third  number:\"))\n",
    "\n",
    "if(a>=b and a>=c):\n",
    "    print(\"first number is largest\", a)\n",
    "elif(b>=c):\n",
    "    print(\"second number is largest\", b)\n",
    "else:\n",
    "    print(\"third number is largest\", c)\n"
   ]
  },
  {
   "cell_type": "code",
   "execution_count": 82,
   "metadata": {},
   "outputs": [
    {
     "name": "stdout",
     "output_type": "stream",
     "text": [
      "not multiply by 7 -> 45\n"
     ]
    }
   ],
   "source": [
    "#num = int(input(\"enter a number\"))\n",
    "num = 45\n",
    "\n",
    "rem = num % 7\n",
    "\n",
    "if(rem == 0):\n",
    "    print(\"multiple of 7 ->\", num)\n",
    "else:\n",
    "    print(\"not multiply by 7 ->\", num)"
   ]
  },
  {
   "cell_type": "code",
   "execution_count": 3,
   "metadata": {},
   "outputs": [
    {
     "name": "stdout",
     "output_type": "stream",
     "text": [
      "they are equal\n"
     ]
    }
   ],
   "source": [
    "x = 1 \n",
    "y = 1\n",
    "if(x == 1 and y == 1):\n",
    "    print(\"they are equal\")"
   ]
  },
  {
   "cell_type": "code",
   "execution_count": 4,
   "metadata": {},
   "outputs": [
    {
     "name": "stdout",
     "output_type": "stream",
     "text": [
      "they are equal\n"
     ]
    }
   ],
   "source": [
    "x = 1 \n",
    "y = 2\n",
    "if(x is not y):\n",
    "    print(\"they are equal\")"
   ]
  },
  {
   "cell_type": "code",
   "execution_count": 7,
   "metadata": {},
   "outputs": [
    {
     "name": "stdout",
     "output_type": "stream",
     "text": [
      "they are same\n"
     ]
    }
   ],
   "source": [
    "x = [26, 12, 45, 18, 30]\n",
    "y = 45\n",
    "if(y in x ):\n",
    "    print(\"they are same\")"
   ]
  },
  {
   "cell_type": "code",
   "execution_count": 9,
   "metadata": {},
   "outputs": [
    {
     "name": "stdout",
     "output_type": "stream",
     "text": [
      "they are not same\n"
     ]
    }
   ],
   "source": [
    "x = [26, 12, 45, 18, 30]\n",
    "y = 55\n",
    "if(y not in x ):\n",
    "    print(\"they are not same\")"
   ]
  },
  {
   "cell_type": "code",
   "execution_count": 12,
   "metadata": {},
   "outputs": [
    {
     "name": "stdout",
     "output_type": "stream",
     "text": [
      "wear long pants\n",
      "get something to eat\n"
     ]
    }
   ],
   "source": [
    "temp = float(input(\"enter temperature\"))\n",
    "if(temp > 30):\n",
    "    print(\"its too hot\")\n",
    "    print(\"wear shorts\")\n",
    "else:\n",
    "    print(\"wear long pants\")\n",
    "print(\"get something to eat\")\n"
   ]
  },
  {
   "cell_type": "code",
   "execution_count": 2,
   "metadata": {},
   "outputs": [
    {
     "name": "stdout",
     "output_type": "stream",
     "text": [
      "buy apples\n",
      "don't buy\n"
     ]
    }
   ],
   "source": [
    "user = input(\"you like apples\")\n",
    "if user == \"yes\":\n",
    "     print(\"buy apples\")\n",
    "print(\"don't buy\")"
   ]
  },
  {
   "cell_type": "code",
   "execution_count": 4,
   "metadata": {},
   "outputs": [
    {
     "name": "stdout",
     "output_type": "stream",
     "text": [
      "buy apples\n"
     ]
    }
   ],
   "source": [
    "user = input(\"you like apples\")\n",
    "if user == \"yes\":\n",
    "     print(\"buy apples\")\n"
   ]
  },
  {
   "cell_type": "code",
   "execution_count": 5,
   "metadata": {},
   "outputs": [
    {
     "name": "stdout",
     "output_type": "stream",
     "text": [
      "x is grater\n"
     ]
    }
   ],
   "source": [
    "x = int(input(\"enter first number\"))\n",
    "y = int(input(\"enter second number\"))\n",
    "\n",
    "if x > y :\n",
    "    print(\"y is grater\")\n",
    "else:\n",
    "    print(\"x is grater\")"
   ]
  },
  {
   "cell_type": "code",
   "execution_count": 8,
   "metadata": {},
   "outputs": [
    {
     "name": "stdout",
     "output_type": "stream",
     "text": [
      "not eligible for IAS exam\n"
     ]
    }
   ],
   "source": [
    "age = int(input(\"enter your age\"))\n",
    "if age >=21 and age <=33:\n",
    "    print(\"eligible for IAS exam\")\n",
    "else:\n",
    "    print(\"not eligible for IAS exam\")\n"
   ]
  },
  {
   "cell_type": "code",
   "execution_count": 2,
   "metadata": {},
   "outputs": [
    {
     "name": "stdout",
     "output_type": "stream",
     "text": [
      "B grade\n"
     ]
    }
   ],
   "source": [
    "grade = int(input(\"enter number\"))\n",
    "if grade >= 90:\n",
    "    print(\"A grade\")\n",
    "elif grade >=80:\n",
    "    print(\"B grade\")\n",
    "elif grade >= 70:\n",
    "    print(\"C grade\")\n",
    "elif grade >= 60:\n",
    "    print(\"D grade\")\n",
    "elif grade >= 50:\n",
    "    print(\"E grade\")\n",
    "else:\n",
    "    print(\"fail\")"
   ]
  },
  {
   "cell_type": "markdown",
   "metadata": {},
   "source": [
    "\n",
    "##### Wap to accept a number from one to seven and display the name of the day like (one for sunday two for monday three for tuesday and so on)."
   ]
  },
  {
   "cell_type": "code",
   "execution_count": 7,
   "metadata": {},
   "outputs": [
    {
     "name": "stdout",
     "output_type": "stream",
     "text": [
      "thursday\n"
     ]
    }
   ],
   "source": [
    "day = int(input(\"enter a number\"))\n",
    "if day == 1:\n",
    "    print(\"sunday\")\n",
    "elif day == 2:\n",
    "    print(\"monday\")\n",
    "elif day == 3:\n",
    "    print(\"tuesday\")\n",
    "elif day == 4:\n",
    "    print(\"wednesday\")\n",
    "elif day == 5:\n",
    "    print(\"thursday\")\n",
    "elif day == 6:\n",
    "    print(\"friday\")\n",
    "elif day == 7:\n",
    "    print(\"saturday\")\n",
    "else:\n",
    "    print(\"enter numbers btw 1 to 7 only\")\n"
   ]
  },
  {
   "cell_type": "markdown",
   "metadata": {},
   "source": [
    "#####num of days present - num of days abs \\ num of days present * 100"
   ]
  },
  {
   "cell_type": "code",
   "execution_count": 5,
   "metadata": {},
   "outputs": [
    {
     "data": {
      "text/plain": [
       "8"
      ]
     },
     "execution_count": 5,
     "metadata": {},
     "output_type": "execute_result"
    }
   ],
   "source": [
    "349548 % 10 "
   ]
  },
  {
   "cell_type": "code",
   "execution_count": 22,
   "metadata": {},
   "outputs": [
    {
     "name": "stdout",
     "output_type": "stream",
     "text": [
      "taj mahal\n"
     ]
    }
   ],
   "source": [
    "a = \"delhi\"\n",
    "b= \"jaipur\"\n",
    "c= \"agra\"\n",
    "\n",
    "city = input(\"enter city name\")\n",
    "\n",
    "if city == a:\n",
    "    print(\"red fort\")\n",
    "elif city == b:\n",
    "    print(\"jal mahal\")\n",
    "elif city == c:\n",
    "    print(\"taj mahal\")\n",
    "else:\n",
    "    print(\"city name not found\")"
   ]
  },
  {
   "cell_type": "code",
   "execution_count": 38,
   "metadata": {},
   "outputs": [
    {
     "name": "stdout",
     "output_type": "stream",
     "text": [
      "jal mahal\n"
     ]
    }
   ],
   "source": [
    "city = input(\"city name\")\n",
    "if city == \"delhi\":\n",
    "    print(\"red fort\")\n",
    "elif city == \"jaipur\":\n",
    "    print(\"jal mahal\")\n",
    "elif city == \"agra\":\n",
    "    print(\"taj mahal\")\n",
    "else:\n",
    "    print(\"city not found\")"
   ]
  },
  {
   "cell_type": "code",
   "execution_count": 30,
   "metadata": {},
   "outputs": [
    {
     "name": "stdout",
     "output_type": "stream",
     "text": [
      "9 divisible by 2 or 3\n"
     ]
    }
   ],
   "source": [
    "num = int(input(\"enter a number\"))\n",
    "\n",
    "if num % 2 == 0 or num % 3 == 0:\n",
    "    print(num, \"divisible by 2 or 3\")\n",
    "else: \n",
    "    print(num, \"not divisible by 2 or 3\")"
   ]
  },
  {
   "cell_type": "code",
   "execution_count": 8,
   "metadata": {},
   "outputs": [
    {
     "name": "stdout",
     "output_type": "stream",
     "text": [
      "eligible to sit in exam\n"
     ]
    }
   ],
   "source": [
    "present_days = int(input(\"enter number of present days\"))\n",
    "absent_days = int(input(\"enter number of absent days\"))\n",
    "\n",
    "#x = present_days - absent_days / present_days * 100\n",
    "\n",
    "x = present_days / present_days + absent_days * 100\n",
    "\n",
    "if x < 75 :\n",
    "    print(\"student will not be able to sit in exam\")\n",
    "else:\n",
    "    print(\"eligible to sit in exam\")"
   ]
  }
 ],
 "metadata": {
  "kernelspec": {
   "display_name": "Python 3",
   "language": "python",
   "name": "python3"
  },
  "language_info": {
   "codemirror_mode": {
    "name": "ipython",
    "version": 3
   },
   "file_extension": ".py",
   "mimetype": "text/x-python",
   "name": "python",
   "nbconvert_exporter": "python",
   "pygments_lexer": "ipython3",
   "version": "3.12.5"
  }
 },
 "nbformat": 4,
 "nbformat_minor": 2
}
